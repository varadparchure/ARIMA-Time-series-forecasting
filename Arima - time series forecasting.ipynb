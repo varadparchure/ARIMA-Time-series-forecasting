{
 "cells": [
  {
   "cell_type": "code",
   "execution_count": 240,
   "id": "d654a323",
   "metadata": {},
   "outputs": [],
   "source": [
    "import os\n",
    "import numpy as np\n",
    "import pandas as pd\n",
    "from matplotlib import pyplot as plt\n",
    "import seaborn as sns\n",
    "\n",
    "#show plots with notebook itself\n",
    "%matplotlib inline\n",
    "\n",
    "#ARIMA\n",
    "from statsmodels.tsa.arima_model import ARIMA\n",
    "from statsmodels.tsa.api import ExponentialSmoothing, SimpleExpSmoothing, Holt\n",
    "\n",
    "\n",
    "#linear regression and mean squared error\n",
    "from sklearn.metrics import mean_squared_error\n",
    "from sklearn.linear_model import LinearRegression\n",
    "from sklearn import linear_model\n",
    "\n",
    "from pandas import to_datetime\n",
    "\n",
    "\n",
    "import itertools\n",
    "import warnings\n",
    "\n",
    "import datetime\n",
    "from datetime import datetime\n",
    "warnings.filterwarnings('ignore')\n",
    "\n"
   ]
  },
  {
   "cell_type": "markdown",
   "id": "f0e8610a",
   "metadata": {},
   "source": [
    "### Problem Formulation \n",
    "We want to forecast the GDP per Capita per country for the next 6 years "
   ]
  },
  {
   "cell_type": "markdown",
   "id": "fc4ddbe6",
   "metadata": {},
   "source": [
    "### Load data from csv"
   ]
  },
  {
   "cell_type": "code",
   "execution_count": 241,
   "id": "86abb920",
   "metadata": {},
   "outputs": [
    {
     "name": "stdout",
     "output_type": "stream",
     "text": [
      "(270038, 8)\n"
     ]
    },
    {
     "data": {
      "text/html": [
       "<div>\n",
       "<style scoped>\n",
       "    .dataframe tbody tr th:only-of-type {\n",
       "        vertical-align: middle;\n",
       "    }\n",
       "\n",
       "    .dataframe tbody tr th {\n",
       "        vertical-align: top;\n",
       "    }\n",
       "\n",
       "    .dataframe thead th {\n",
       "        text-align: right;\n",
       "    }\n",
       "</style>\n",
       "<table border=\"1\" class=\"dataframe\">\n",
       "  <thead>\n",
       "    <tr style=\"text-align: right;\">\n",
       "      <th></th>\n",
       "      <th>demo</th>\n",
       "      <th>indicator</th>\n",
       "      <th>location</th>\n",
       "      <th>country</th>\n",
       "      <th>time</th>\n",
       "      <th>value</th>\n",
       "      <th>flog codes</th>\n",
       "      <th>flags</th>\n",
       "    </tr>\n",
       "  </thead>\n",
       "  <tbody>\n",
       "    <tr>\n",
       "      <th>0</th>\n",
       "      <td>SP_DYN_TFRT_IN</td>\n",
       "      <td>Fertility rate, total (births per woman)</td>\n",
       "      <td>AUS</td>\n",
       "      <td>Australia</td>\n",
       "      <td>1970</td>\n",
       "      <td>2.86</td>\n",
       "      <td>NaN</td>\n",
       "      <td>NaN</td>\n",
       "    </tr>\n",
       "    <tr>\n",
       "      <th>1</th>\n",
       "      <td>SP_DYN_TFRT_IN</td>\n",
       "      <td>Fertility rate, total (births per woman)</td>\n",
       "      <td>AUS</td>\n",
       "      <td>Australia</td>\n",
       "      <td>1971</td>\n",
       "      <td>2.96</td>\n",
       "      <td>NaN</td>\n",
       "      <td>NaN</td>\n",
       "    </tr>\n",
       "    <tr>\n",
       "      <th>2</th>\n",
       "      <td>SP_DYN_TFRT_IN</td>\n",
       "      <td>Fertility rate, total (births per woman)</td>\n",
       "      <td>AUS</td>\n",
       "      <td>Australia</td>\n",
       "      <td>1972</td>\n",
       "      <td>2.74</td>\n",
       "      <td>NaN</td>\n",
       "      <td>NaN</td>\n",
       "    </tr>\n",
       "    <tr>\n",
       "      <th>3</th>\n",
       "      <td>SP_DYN_TFRT_IN</td>\n",
       "      <td>Fertility rate, total (births per woman)</td>\n",
       "      <td>AUS</td>\n",
       "      <td>Australia</td>\n",
       "      <td>1973</td>\n",
       "      <td>2.49</td>\n",
       "      <td>NaN</td>\n",
       "      <td>NaN</td>\n",
       "    </tr>\n",
       "    <tr>\n",
       "      <th>4</th>\n",
       "      <td>SP_DYN_TFRT_IN</td>\n",
       "      <td>Fertility rate, total (births per woman)</td>\n",
       "      <td>AUS</td>\n",
       "      <td>Australia</td>\n",
       "      <td>1974</td>\n",
       "      <td>2.40</td>\n",
       "      <td>NaN</td>\n",
       "      <td>NaN</td>\n",
       "    </tr>\n",
       "  </tbody>\n",
       "</table>\n",
       "</div>"
      ],
      "text/plain": [
       "             demo                                 indicator location  \\\n",
       "0  SP_DYN_TFRT_IN  Fertility rate, total (births per woman)      AUS   \n",
       "1  SP_DYN_TFRT_IN  Fertility rate, total (births per woman)      AUS   \n",
       "2  SP_DYN_TFRT_IN  Fertility rate, total (births per woman)      AUS   \n",
       "3  SP_DYN_TFRT_IN  Fertility rate, total (births per woman)      AUS   \n",
       "4  SP_DYN_TFRT_IN  Fertility rate, total (births per woman)      AUS   \n",
       "\n",
       "     country  time  value flog codes flags  \n",
       "0  Australia  1970   2.86        NaN   NaN  \n",
       "1  Australia  1971   2.96        NaN   NaN  \n",
       "2  Australia  1972   2.74        NaN   NaN  \n",
       "3  Australia  1973   2.49        NaN   NaN  \n",
       "4  Australia  1974   2.40        NaN   NaN  "
      ]
     },
     "execution_count": 241,
     "metadata": {},
     "output_type": "execute_result"
    }
   ],
   "source": [
    "raw_data = pd.read_csv(\"C:\\\\Users\\\\modx\\\\Desktop\\\\TimeSeriesForecastGDPRAW.csv.txt\", encoding='latin-1')\n",
    "\n",
    "#rows and columns\n",
    "print(raw_data.shape)\n",
    "\n",
    "raw_data.head()"
   ]
  },
  {
   "cell_type": "markdown",
   "id": "51145a20",
   "metadata": {},
   "source": [
    "### Data pre-processing"
   ]
  },
  {
   "cell_type": "code",
   "execution_count": 242,
   "id": "b31f0776",
   "metadata": {},
   "outputs": [
    {
     "data": {
      "text/plain": [
       "demo               0\n",
       "indicator          0\n",
       "location           0\n",
       "country            0\n",
       "time               0\n",
       "value           2066\n",
       "flog codes    267972\n",
       "flags         267972\n",
       "dtype: int64"
      ]
     },
     "execution_count": 242,
     "metadata": {},
     "output_type": "execute_result"
    }
   ],
   "source": [
    "#check null values\n",
    "raw_data.isnull().sum()"
   ]
  },
  {
   "cell_type": "code",
   "execution_count": 243,
   "id": "bb4669e6",
   "metadata": {},
   "outputs": [
    {
     "data": {
      "text/plain": [
       "demo         0\n",
       "indicator    0\n",
       "location     0\n",
       "country      0\n",
       "time         0\n",
       "value        0\n",
       "dtype: int64"
      ]
     },
     "execution_count": 243,
     "metadata": {},
     "output_type": "execute_result"
    }
   ],
   "source": [
    "#clean null values from values col\n",
    "\n",
    "raw_data = raw_data.dropna(subset=['value'])\n",
    "\n",
    "#remove last two columns with null values\n",
    "\n",
    "raw_data= raw_data[['demo','indicator','location','country','time','value']]\n",
    "\n",
    "raw_data.isnull().sum()\n"
   ]
  },
  {
   "cell_type": "code",
   "execution_count": 244,
   "id": "2613296c",
   "metadata": {},
   "outputs": [
    {
     "name": "stdout",
     "output_type": "stream",
     "text": [
      "Unique value for feature demo : 35\n",
      "Unique value for feature indicator : 35\n",
      "Unique value for feature location : 233\n",
      "Unique value for feature country : 233\n",
      "Unique value for feature time : 50\n",
      "Unique value for feature value : 125438\n"
     ]
    }
   ],
   "source": [
    "#checking unique values in each column\n",
    "\n",
    "for column in raw_data:\n",
    "    unique_value = np.unique(raw_data[column])\n",
    "    unique_sum= len(unique_value)\n",
    "    \n",
    "    print('Unique value for feature {} : {}'.format(column,unique_sum))"
   ]
  },
  {
   "cell_type": "code",
   "execution_count": 245,
   "id": "69e36397",
   "metadata": {},
   "outputs": [
    {
     "data": {
      "text/html": [
       "<div>\n",
       "<style scoped>\n",
       "    .dataframe tbody tr th:only-of-type {\n",
       "        vertical-align: middle;\n",
       "    }\n",
       "\n",
       "    .dataframe tbody tr th {\n",
       "        vertical-align: top;\n",
       "    }\n",
       "\n",
       "    .dataframe thead th {\n",
       "        text-align: right;\n",
       "    }\n",
       "</style>\n",
       "<table border=\"1\" class=\"dataframe\">\n",
       "  <thead>\n",
       "    <tr style=\"text-align: right;\">\n",
       "      <th></th>\n",
       "      <th>demo</th>\n",
       "      <th>indicator</th>\n",
       "      <th>location</th>\n",
       "      <th>country</th>\n",
       "      <th>time</th>\n",
       "      <th>value</th>\n",
       "    </tr>\n",
       "  </thead>\n",
       "  <tbody>\n",
       "    <tr>\n",
       "      <th>76848</th>\n",
       "      <td>NY_GDP_PCAP_PP_CD</td>\n",
       "      <td>GDP per capita, PPP (current international $)</td>\n",
       "      <td>AUS</td>\n",
       "      <td>Australia</td>\n",
       "      <td>1990</td>\n",
       "      <td>17333.10</td>\n",
       "    </tr>\n",
       "    <tr>\n",
       "      <th>76849</th>\n",
       "      <td>NY_GDP_PCAP_PP_CD</td>\n",
       "      <td>GDP per capita, PPP (current international $)</td>\n",
       "      <td>AUS</td>\n",
       "      <td>Australia</td>\n",
       "      <td>1991</td>\n",
       "      <td>17793.60</td>\n",
       "    </tr>\n",
       "    <tr>\n",
       "      <th>76850</th>\n",
       "      <td>NY_GDP_PCAP_PP_CD</td>\n",
       "      <td>GDP per capita, PPP (current international $)</td>\n",
       "      <td>AUS</td>\n",
       "      <td>Australia</td>\n",
       "      <td>1992</td>\n",
       "      <td>18189.34</td>\n",
       "    </tr>\n",
       "    <tr>\n",
       "      <th>76851</th>\n",
       "      <td>NY_GDP_PCAP_PP_CD</td>\n",
       "      <td>GDP per capita, PPP (current international $)</td>\n",
       "      <td>AUS</td>\n",
       "      <td>Australia</td>\n",
       "      <td>1993</td>\n",
       "      <td>19130.89</td>\n",
       "    </tr>\n",
       "    <tr>\n",
       "      <th>76852</th>\n",
       "      <td>NY_GDP_PCAP_PP_CD</td>\n",
       "      <td>GDP per capita, PPP (current international $)</td>\n",
       "      <td>AUS</td>\n",
       "      <td>Australia</td>\n",
       "      <td>1994</td>\n",
       "      <td>20063.81</td>\n",
       "    </tr>\n",
       "  </tbody>\n",
       "</table>\n",
       "</div>"
      ],
      "text/plain": [
       "                    demo                                      indicator  \\\n",
       "76848  NY_GDP_PCAP_PP_CD  GDP per capita, PPP (current international $)   \n",
       "76849  NY_GDP_PCAP_PP_CD  GDP per capita, PPP (current international $)   \n",
       "76850  NY_GDP_PCAP_PP_CD  GDP per capita, PPP (current international $)   \n",
       "76851  NY_GDP_PCAP_PP_CD  GDP per capita, PPP (current international $)   \n",
       "76852  NY_GDP_PCAP_PP_CD  GDP per capita, PPP (current international $)   \n",
       "\n",
       "      location    country  time     value  \n",
       "76848      AUS  Australia  1990  17333.10  \n",
       "76849      AUS  Australia  1991  17793.60  \n",
       "76850      AUS  Australia  1992  18189.34  \n",
       "76851      AUS  Australia  1993  19130.89  \n",
       "76852      AUS  Australia  1994  20063.81  "
      ]
     },
     "execution_count": 245,
     "metadata": {},
     "output_type": "execute_result"
    }
   ],
   "source": [
    "#filtering out the data we need - GDP per Capita\n",
    "\n",
    "forecast_data = raw_data[raw_data['indicator'] == 'GDP per capita, PPP (current international $)']\n",
    "\n",
    "\n",
    "#filter out some countries\n",
    "\n",
    "forecast_data = forecast_data[~forecast_data['country'].isin(['Djibouti', 'South Sudan', 'Curaþao', 'Eritrea', 'Bermuda', 'Venezuela (Bolivarian Republic of)'])]\n",
    "\n",
    "forecast_data.head()\n",
    "\n",
    "\n"
   ]
  },
  {
   "cell_type": "code",
   "execution_count": 246,
   "id": "cbe004af",
   "metadata": {},
   "outputs": [
    {
     "data": {
      "text/html": [
       "<div>\n",
       "<style scoped>\n",
       "    .dataframe tbody tr th:only-of-type {\n",
       "        vertical-align: middle;\n",
       "    }\n",
       "\n",
       "    .dataframe tbody tr th {\n",
       "        vertical-align: top;\n",
       "    }\n",
       "\n",
       "    .dataframe thead th {\n",
       "        text-align: right;\n",
       "    }\n",
       "</style>\n",
       "<table border=\"1\" class=\"dataframe\">\n",
       "  <thead>\n",
       "    <tr style=\"text-align: right;\">\n",
       "      <th></th>\n",
       "      <th>country</th>\n",
       "      <th>time</th>\n",
       "      <th>value</th>\n",
       "    </tr>\n",
       "  </thead>\n",
       "  <tbody>\n",
       "    <tr>\n",
       "      <th>76848</th>\n",
       "      <td>Australia</td>\n",
       "      <td>1990</td>\n",
       "      <td>17333.10</td>\n",
       "    </tr>\n",
       "    <tr>\n",
       "      <th>76849</th>\n",
       "      <td>Australia</td>\n",
       "      <td>1991</td>\n",
       "      <td>17793.60</td>\n",
       "    </tr>\n",
       "    <tr>\n",
       "      <th>76850</th>\n",
       "      <td>Australia</td>\n",
       "      <td>1992</td>\n",
       "      <td>18189.34</td>\n",
       "    </tr>\n",
       "    <tr>\n",
       "      <th>76851</th>\n",
       "      <td>Australia</td>\n",
       "      <td>1993</td>\n",
       "      <td>19130.89</td>\n",
       "    </tr>\n",
       "    <tr>\n",
       "      <th>76852</th>\n",
       "      <td>Australia</td>\n",
       "      <td>1994</td>\n",
       "      <td>20063.81</td>\n",
       "    </tr>\n",
       "  </tbody>\n",
       "</table>\n",
       "</div>"
      ],
      "text/plain": [
       "         country  time     value\n",
       "76848  Australia  1990  17333.10\n",
       "76849  Australia  1991  17793.60\n",
       "76850  Australia  1992  18189.34\n",
       "76851  Australia  1993  19130.89\n",
       "76852  Australia  1994  20063.81"
      ]
     },
     "execution_count": 246,
     "metadata": {},
     "output_type": "execute_result"
    }
   ],
   "source": [
    "#limiting columns we need \n",
    "\n",
    "forecast_data= forecast_data[['country','time','value']]\n",
    "forecast_data.head()\n"
   ]
  },
  {
   "cell_type": "code",
   "execution_count": 247,
   "id": "d1cdbde2",
   "metadata": {},
   "outputs": [
    {
     "data": {
      "text/html": [
       "<div>\n",
       "<style scoped>\n",
       "    .dataframe tbody tr th:only-of-type {\n",
       "        vertical-align: middle;\n",
       "    }\n",
       "\n",
       "    .dataframe tbody tr th {\n",
       "        vertical-align: top;\n",
       "    }\n",
       "\n",
       "    .dataframe thead th {\n",
       "        text-align: right;\n",
       "    }\n",
       "</style>\n",
       "<table border=\"1\" class=\"dataframe\">\n",
       "  <thead>\n",
       "    <tr style=\"text-align: right;\">\n",
       "      <th></th>\n",
       "      <th>country</th>\n",
       "      <th>time</th>\n",
       "      <th>value</th>\n",
       "    </tr>\n",
       "  </thead>\n",
       "  <tbody>\n",
       "    <tr>\n",
       "      <th>76848</th>\n",
       "      <td>Australia</td>\n",
       "      <td>1990-01-01</td>\n",
       "      <td>17333.10</td>\n",
       "    </tr>\n",
       "    <tr>\n",
       "      <th>76849</th>\n",
       "      <td>Australia</td>\n",
       "      <td>1991-01-01</td>\n",
       "      <td>17793.60</td>\n",
       "    </tr>\n",
       "    <tr>\n",
       "      <th>76850</th>\n",
       "      <td>Australia</td>\n",
       "      <td>1992-01-01</td>\n",
       "      <td>18189.34</td>\n",
       "    </tr>\n",
       "    <tr>\n",
       "      <th>76851</th>\n",
       "      <td>Australia</td>\n",
       "      <td>1993-01-01</td>\n",
       "      <td>19130.89</td>\n",
       "    </tr>\n",
       "    <tr>\n",
       "      <th>76852</th>\n",
       "      <td>Australia</td>\n",
       "      <td>1994-01-01</td>\n",
       "      <td>20063.81</td>\n",
       "    </tr>\n",
       "  </tbody>\n",
       "</table>\n",
       "</div>"
      ],
      "text/plain": [
       "         country       time     value\n",
       "76848  Australia 1990-01-01  17333.10\n",
       "76849  Australia 1991-01-01  17793.60\n",
       "76850  Australia 1992-01-01  18189.34\n",
       "76851  Australia 1993-01-01  19130.89\n",
       "76852  Australia 1994-01-01  20063.81"
      ]
     },
     "execution_count": 247,
     "metadata": {},
     "output_type": "execute_result"
    }
   ],
   "source": [
    "#change the time to date as most time series models require data structure\n",
    "\n",
    "# convert into string and upending -01-01\n",
    "forecast_data['time'] = forecast_data['time'].astype(str) + '-01-01'\n",
    "\n",
    "forecast_data['time'] = pd.to_datetime(forecast_data['time'])\n",
    "\n",
    "forecast_data.head()\n",
    "\n"
   ]
  },
  {
   "cell_type": "markdown",
   "id": "d941b33b",
   "metadata": {},
   "source": [
    "### Splitting the raw data for training and validation"
   ]
  },
  {
   "cell_type": "code",
   "execution_count": 248,
   "id": "6d486a5b",
   "metadata": {},
   "outputs": [
    {
     "name": "stdout",
     "output_type": "stream",
     "text": [
      "X train shape:  (3967, 3)\n",
      "X validation shape:  (1133, 3)\n"
     ]
    }
   ],
   "source": [
    "x_train= forecast_data[forecast_data['time'] < '2012-01-01']\n",
    "x_valid= forecast_data[forecast_data['time'] >= '2012-01-01']\n",
    "\n",
    "\n",
    "print(\"X train shape: \",x_train.shape )\n",
    "print(\"X validation shape: \",x_valid.shape )\n"
   ]
  },
  {
   "cell_type": "markdown",
   "id": "6d3b8544",
   "metadata": {},
   "source": [
    "### ARIMA for dummies\n",
    "\n",
    "https://medium.com/analytics-vidhya/arima-for-dummies-ba761d59a051\n",
    "\n",
    "http://www.seanabu.com/2016/03/22/time-series-seasonal-ARIMA-model-in-python/\n"
   ]
  },
  {
   "cell_type": "code",
   "execution_count": 249,
   "id": "e4a17796",
   "metadata": {},
   "outputs": [],
   "source": [
    "#running arima for USA\n",
    "\n",
    "#filter the train data\n",
    "\n",
    "\n",
    "us = x_train[x_train['country'] == 'United States of America']\n",
    "us2 = us[['time', 'value']]\n",
    "\n",
    "#filter valid data\n",
    "\n",
    "us_v = x_valid[x_valid['country'] == 'United States of America']\n",
    "us_v2 = us_v[['time', 'value']]\n",
    "\n",
    "\n",
    "#set date to index -- need to do this to run time series model\n",
    "\n",
    "us2.set_index('time', inplace=True)\n",
    "us_v2.set_index('time', inplace=True)\n",
    "\n",
    "\n",
    "# Setting the Index for 6 years going fwd-- use this as forecasting input later\n",
    "\n",
    "#AS== annual frequency\n",
    "\n",
    "index_6_years = pd.date_range(us2.index[-1], freq='AS', periods = 6) \n",
    "\n",
    "\n"
   ]
  },
  {
   "cell_type": "code",
   "execution_count": 250,
   "id": "8d6cd974",
   "metadata": {},
   "outputs": [
    {
     "data": {
      "text/plain": [
       "DatetimeIndex(['2011-01-01', '2012-01-01', '2013-01-01', '2014-01-01',\n",
       "               '2015-01-01', '2016-01-01'],\n",
       "              dtype='datetime64[ns]', freq='AS-JAN')"
      ]
     },
     "execution_count": 250,
     "metadata": {},
     "output_type": "execute_result"
    }
   ],
   "source": [
    "index_6_years"
   ]
  },
  {
   "cell_type": "code",
   "execution_count": 251,
   "id": "e7bcb735",
   "metadata": {
    "scrolled": true
   },
   "outputs": [
    {
     "name": "stdout",
     "output_type": "stream",
     "text": [
      "MSE of arima:  1857.434857766148\n"
     ]
    },
    {
     "data": {
      "image/png": "[encoded data removed]",
      "text/plain": [
       "<Figure size 1080x360 with 1 Axes>"
      ]
     },
     "metadata": {
      "needs_background": "light"
     },
     "output_type": "display_data"
    }
   ],
   "source": [
    "#running arima with random p,d,q\n",
    "\n",
    "\n",
    "model_arima = ARIMA(us2, order=(0,2,2))  #random 3 values pdq\n",
    "model_arima_fit= model_arima.fit(disp=-1)\n",
    "\n",
    "\n",
    "#making predictions on the 6 year index without index first\n",
    "fcast1= model_arima_fit.forecast(6)[0]\n",
    "    \n",
    "    \n",
    "# Passing the index\n",
    "fcast1 = pd.Series(fcast1, index=index_6_years)\n",
    "fcast1 = fcast1.rename(\"Arima\") \n",
    "\n",
    "\n",
    "# Ploting the predictions\n",
    "fig, ax = plt.subplots(figsize=(15,5))\n",
    "chart = sns.lineplot(x='time', y='value', data = us)\n",
    "chart.set_title('US')\n",
    "fcast1.plot(ax=ax, color='red', marker=\"o\", legend=True)\n",
    "us_v2.plot(ax=ax, color='blue', marker=\"o\", legend=True)\n",
    "\n",
    "\n",
    "#mean square error -- average squared difference between observed vs predicted\n",
    "#tells us by how much $ our prediction is off by\n",
    "\n",
    "\n",
    "print(\"MSE of arima: \",mean_squared_error(us_v['value'].values, fcast1.values, squared=False))\n"
   ]
  },
  {
   "cell_type": "code",
   "execution_count": 252,
   "id": "19962913",
   "metadata": {},
   "outputs": [
    {
     "name": "stdout",
     "output_type": "stream",
     "text": [
      "(0, 0, 0) 465.3549075074627\n",
      "(0, 0, 1) 442.10325523396943\n",
      "(0, 0, 2) 421.15029296084674\n",
      "(0, 0, 3) 407.33876146108014\n",
      "(0, 1, 0) 343.4737347376556\n",
      "(0, 1, 1) 341.8255733948989\n",
      "(0, 1, 2) 343.8247813639084\n",
      "(0, 1, 3) nan\n",
      "(0, 1, 4) nan\n",
      "(0, 2, 0) 332.60682979101045\n",
      "(0, 2, 1) 333.3286321675839\n",
      "(0, 2, 2) 331.1382243987239\n",
      "(0, 2, 3) nan\n",
      "(0, 2, 4) nan\n",
      "(1, 0, 0) 393.35079861504573\n",
      "(1, 1, 0) 342.667077800864\n",
      "(1, 2, 0) 334.28219068893816\n",
      "(2, 0, 0) 376.1853832804411\n",
      "(2, 1, 0) 343.2633080441793\n",
      "(2, 2, 0) 334.636537383821\n",
      "(3, 0, 0) 378.4839332935119\n",
      "(3, 1, 0) 343.4374648739158\n",
      "(3, 2, 0) 335.91689073166094\n",
      "(4, 0, 0) 380.31885532622584\n",
      "(4, 1, 0) 361.09380760733205\n",
      "(4, 2, 0) 336.0632858880646\n"
     ]
    }
   ],
   "source": [
    "#Finding the best value for ARIMA\n",
    "\n",
    "import itertools\n",
    "p=d=q=range(0,5)\n",
    "pdq = list(itertools.product(p,d,q))\n",
    "\n",
    "for param in pdq:\n",
    "    try:\n",
    "        model_arima = ARIMA(us2,order=param)\n",
    "        model_arima_fit = model_arima.fit()\n",
    "        print(param,model_arima_fit.aic)\n",
    "    except:\n",
    "        continue\n",
    "    \n",
    "# The Akaike information criterion (AIC) is an estimator of in-sample prediction error and thereby relative quality of\n",
    "# statistical models for a given set of data\n",
    "\n",
    "# It's like the mean squared error in Regression - The smaller the number, the better\n",
    "\n"
   ]
  },
  {
   "cell_type": "markdown",
   "id": "4573b282",
   "metadata": {},
   "source": [
    "### Running ARIMA for future predictions"
   ]
  },
  {
   "cell_type": "code",
   "execution_count": 257,
   "id": "008aa7da",
   "metadata": {},
   "outputs": [
    {
     "data": {
      "image/png": "[encoded data removed]",
      "text/plain": [
       "<Figure size 1080x360 with 1 Axes>"
      ]
     },
     "metadata": {
      "needs_background": "light"
     },
     "output_type": "display_data"
    }
   ],
   "source": [
    "# creating a country list\n",
    "countries = forecast_data['country'].unique()\n",
    "\n",
    "countries = ['United States of America']\n",
    "\n",
    "\n",
    "for c in countries:\n",
    "    # filtering the train data - USA\n",
    "    train_data =  x_train[x_train['country'] == c] \n",
    "    train_data2 = train_data[['time', 'value']] \n",
    "    \n",
    "    # filtering the valid data  - USA\n",
    "    valid_data = x_valid[x_valid['country'] == c]\n",
    "    valid_data2 = valid_data[['time', 'value']]\n",
    "    \n",
    "    # all data  - USA\n",
    "    all_data = forecast_data[forecast_data['country']==c]\n",
    "    all_data2 = all_data[['time', 'value']]\n",
    "    \n",
    "    \n",
    "    #convert date column to datetime for train and valid and all data\n",
    "    train_data2.set_index('time', inplace=True)\n",
    "    valid_data2.set_index('time', inplace=True)\n",
    "    valid_data2.columns = ['Valid Data']    #rename -- need to see this\n",
    "    all_data2.set_index('time', inplace=True)\n",
    "    \n",
    "\n",
    "    # Setting the Valid - Index for 6 years\n",
    "    index_6_years = pd.date_range(train_data2.index[-1], freq='AS', periods = 6) \n",
    "    \n",
    "    # Setting the Future - Index for 6 years\n",
    "    future_index_6_years = pd.date_range(valid_data2.index[-1], freq='AS', periods = 6) \n",
    "    \n",
    "    \n",
    "    # Dropping all tables for checking for other countries -- when in loop\n",
    "    try:\n",
    "        del t_fcast1\n",
    "        \n",
    "        \n",
    "    except:\n",
    "        print(\"\")\n",
    "\n",
    "   \n",
    "        \n",
    "        \n",
    "        \n",
    "        #########################################   ARIMA   ########################################\n",
    "        \n",
    "        #VALIDATION\n",
    "        \n",
    "    try:        \n",
    "        try:\n",
    "            # Running ARIMA on Best parameter 1\n",
    "            model_arima = ARIMA(train_data2, order=(0,2,2))\n",
    "            model_arima_fit = model_arima.fit(disp=-1)\n",
    "\n",
    "            # Saving ARIMA predictions\n",
    "            t_fcast1 = model_arima_fit.forecast(6)[0]\n",
    "            # Passing the same index as the others\n",
    "            t_fcast1 = pd.Series(t_fcast1, index=index_6_years)\n",
    "            t_fcast1 = t_fcast1.rename(\"Arima\") \n",
    "        except:\n",
    "            # Running ARIMA on Best parameter 2\n",
    "            model_arima = ARIMA(train_data2, order=(0,2,0))\n",
    "            model_arima_fit = model_arima.fit(disp=-1)\n",
    "\n",
    "            # Saving ARIMA predictions\n",
    "            t_fcast1 = model_arima_fit.forecast(6)[0]\n",
    "            # Passing the same index as the others\n",
    "            t_fcast1 = pd.Series(t_fcast1, index=index_6_years)\n",
    "            t_fcast1 = t_fcast1.rename(\"Arima\") \n",
    "    \n",
    "    except:\n",
    "            print(c, \"Arima Train Error\")\n",
    "        \n",
    "     # THIS IS FOR THE FUTURE PHASE\n",
    "    try:        \n",
    "        try:\n",
    "            # Running ARIMA on Best parameter 1\n",
    "            model_arima = ARIMA(all_data2, order=(0,2,2))\n",
    "            model_arima_fit = model_arima.fit(disp=-1)\n",
    "\n",
    "            # Saving ARIMA predictions\n",
    "            f_fcast1 = model_arima_fit.forecast(6)[0]\n",
    "            # Passing the same index as the others\n",
    "            f_fcast1 = pd.Series(f_fcast1, index=future_index_6_years)\n",
    "            f_fcast1 = f_fcast1.rename(\"Future - Arima\") \n",
    "    \n",
    "        except:\n",
    "            # Running ARIMA on Best parameter 2\n",
    "            model_arima = ARIMA(all_data2, order=(0,2,0))\n",
    "            model_arima_fit = model_arima.fit(disp=-1)\n",
    "\n",
    "            # Saving ARIMA predictions\n",
    "            f_fcast1 = model_arima_fit.forecast(6)[0]\n",
    "            # Passing the same index as the others\n",
    "            f_fcast1 = pd.Series(f_fcast1, index=future_index_6_years)\n",
    "            f_fcast1 = f_fcast1.rename(\"Future - Arima\") \n",
    "\n",
    "        \n",
    "    except:\n",
    "            print(c, \"Arima Future Error\")   \n",
    "            \n",
    "            \n",
    "            \n",
    "            \n",
    "            \n",
    "            \n",
    "    ##############################################################################################################\n",
    "    ########################################      PLOTTING              ##########################################\n",
    "    ##############################################################################################################\n",
    "    \n",
    "    fig, ax = plt.subplots(figsize=(15,5))\n",
    "    chart = sns.lineplot(x='time', y='value', data = train_data)\n",
    "    chart.set_title(c)\n",
    "    valid_data2.plot(ax=ax, color='blue', marker=\"o\", legend=True)\n",
    "    \n",
    "    # ploting validation\n",
    "    try:\n",
    "        t_fcast1.plot(ax=ax, color='red', marker=\"o\", legend=True)\n",
    "    except:\n",
    "        print(\"\")        \n",
    "  \n",
    "        \n",
    "    # plotting future\n",
    "    try:\n",
    "        f_fcast1.plot(ax=ax, color='red', marker=\"v\", legend=True)\n",
    "    except:\n",
    "        print(\"\")        \n",
    "   \n",
    "    \n"
   ]
  },
  {
   "cell_type": "code",
   "execution_count": null,
   "id": "1e6fc3ab",
   "metadata": {},
   "outputs": [],
   "source": []
  },
  {
   "cell_type": "code",
   "execution_count": null,
   "id": "f069088d",
   "metadata": {},
   "outputs": [],
   "source": []
  },
  {
   "cell_type": "code",
   "execution_count": null,
   "id": "9265a302",
   "metadata": {},
   "outputs": [],
   "source": []
  }
 ],
 "metadata": {
  "kernelspec": {
   "display_name": "Python 3 (ipykernel)",
   "language": "python",
   "name": "python3"
  },
  "language_info": {
   "codemirror_mode": {
    "name": "ipython",
    "version": 3
   },
   "file_extension": ".py",
   "mimetype": "text/x-python",
   "name": "python",
   "nbconvert_exporter": "python",
   "pygments_lexer": "ipython3",
   "version": "3.9.12"
  }
 },
 "nbformat": 4,
 "nbformat_minor": 5
}
