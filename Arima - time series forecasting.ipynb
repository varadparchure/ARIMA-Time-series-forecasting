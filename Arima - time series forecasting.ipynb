{
 "cells": [
  {
   "cell_type": "code",
   "execution_count": 2,
   "id": "d654a323",
   "metadata": {},
   "outputs": [
    {
     "name": "stderr",
     "output_type": "stream",
   
    }
   ],
   "source": [
    "import os\n",
    "import numpy as np\n",
    "import pandas as pd\n",
    "from matplotlib import pyplot as plt\n",
    "import seaborn as sns\n",
    "\n",
    "#show plots with notebook itself\n",
    "%matplotlib inline\n",
    "\n",
    "#ARIMA\n",
    "from statsmodels.tsa.arima_model import ARIMA\n",
    "from statsmodels.tsa.api import ExponentialSmoothing, SimpleExpSmoothing, Holt\n",
    "\n",
    "\n",
    "#linear regression and mean squared error\n",
    "from sklearn.metrics import mean_squared_error\n",
    "from sklearn.linear_model import LinearRegression\n",
    "from sklearn import linear_model\n",
    "\n",
    "from pandas import to_datetime\n",
    "\n",
    "\n",
    "import itertools\n",
    "import warnings\n",
    "\n",
    "import datetime\n",
    "from datetime import datetime\n",
    "warnings.filterwarnings('ignore')\n",
    "\n"
   ]
  },
  {
   "cell_type": "markdown",
   "id": "f0e8610a",
   "metadata": {},
   "source": [
    "### Problem Formulation \n",
    "We want to forecast the GDP per Capita per country for the next 6 years "
   ]
  },
  {
   "cell_type": "markdown",
   "id": "fc4ddbe6",
   "metadata": {},
   "source": [
    "### Load data from csv"
   ]
  },
  {
   "cell_type": "code",
   "execution_count": 3,
   "id": "86abb920",
   "metadata": {},
   "outputs": [
    {
     "name": "stdout",
     "output_type": "stream",
     "text": [
      "(270038, 8)\n"
     ]
    },
    {
     "data": {
      "text/html": [
       "<div>\n",
       "<style scoped>\n",
       "    .dataframe tbody tr th:only-of-type {\n",
       "        vertical-align: middle;\n",
       "    }\n",
       "\n",
       "    .dataframe tbody tr th {\n",
       "        vertical-align: top;\n",
       "    }\n",
       "\n",
       "    .dataframe thead th {\n",
       "        text-align: right;\n",
       "    }\n",
       "</style>\n",
       "<table border=\"1\" class=\"dataframe\">\n",
       "  <thead>\n",
       "    <tr style=\"text-align: right;\">\n",
       "      <th></th>\n",
       "      <th>demo</th>\n",
       "      <th>indicator</th>\n",
       "      <th>location</th>\n",
       "      <th>country</th>\n",
       "      <th>time</th>\n",
       "      <th>value</th>\n",
       "      <th>flog codes</th>\n",
       "      <th>flags</th>\n",
       "    </tr>\n",
       "  </thead>\n",
       "  <tbody>\n",
       "    <tr>\n",
       "      <th>0</th>\n",
       "      <td>SP_DYN_TFRT_IN</td>\n",
       "      <td>Fertility rate, total (births per woman)</td>\n",
       "      <td>AUS</td>\n",
       "      <td>Australia</td>\n",
       "      <td>1970</td>\n",
       "      <td>2.86</td>\n",
       "      <td>NaN</td>\n",
       "      <td>NaN</td>\n",
       "    </tr>\n",
       "    <tr>\n",
       "      <th>1</th>\n",
       "      <td>SP_DYN_TFRT_IN</td>\n",
       "      <td>Fertility rate, total (births per woman)</td>\n",
       "      <td>AUS</td>\n",
       "      <td>Australia</td>\n",
       "      <td>1971</td>\n",
       "      <td>2.96</td>\n",
       "      <td>NaN</td>\n",
       "      <td>NaN</td>\n",
       "    </tr>\n",
       "    <tr>\n",
       "      <th>2</th>\n",
       "      <td>SP_DYN_TFRT_IN</td>\n",
       "      <td>Fertility rate, total (births per woman)</td>\n",
       "      <td>AUS</td>\n",
       "      <td>Australia</td>\n",
       "      <td>1972</td>\n",
       "      <td>2.74</td>\n",
       "      <td>NaN</td>\n",
       "      <td>NaN</td>\n",
       "    </tr>\n",
       "    <tr>\n",
       "      <th>3</th>\n",
       "      <td>SP_DYN_TFRT_IN</td>\n",
       "      <td>Fertility rate, total (births per woman)</td>\n",
       "      <td>AUS</td>\n",
       "      <td>Australia</td>\n",
       "      <td>1973</td>\n",
       "      <td>2.49</td>\n",
       "      <td>NaN</td>\n",
       "      <td>NaN</td>\n",
       "    </tr>\n",
       "    <tr>\n",
       "      <th>4</th>\n",
       "      <td>SP_DYN_TFRT_IN</td>\n",
       "      <td>Fertility rate, total (births per woman)</td>\n",
       "      <td>AUS</td>\n",
       "      <td>Australia</td>\n",
       "      <td>1974</td>\n",
       "      <td>2.40</td>\n",
       "      <td>NaN</td>\n",
       "      <td>NaN</td>\n",
       "    </tr>\n",
       "  </tbody>\n",
       "</table>\n",
       "</div>"
      ],
      "text/plain": [
       "             demo                                 indicator location  \\\n",
       "0  SP_DYN_TFRT_IN  Fertility rate, total (births per woman)      AUS   \n",
       "1  SP_DYN_TFRT_IN  Fertility rate, total (births per woman)      AUS   \n",
       "2  SP_DYN_TFRT_IN  Fertility rate, total (births per woman)      AUS   \n",
       "3  SP_DYN_TFRT_IN  Fertility rate, total (births per woman)      AUS   \n",
       "4  SP_DYN_TFRT_IN  Fertility rate, total (births per woman)      AUS   \n",
       "\n",
       "     country  time  value flog codes flags  \n",
       "0  Australia  1970   2.86        NaN   NaN  \n",
       "1  Australia  1971   2.96        NaN   NaN  \n",
       "2  Australia  1972   2.74        NaN   NaN  \n",
       "3  Australia  1973   2.49        NaN   NaN  \n",
       "4  Australia  1974   2.40        NaN   NaN  "
      ]
     },
     "execution_count": 3,
     "metadata": {},
     "output_type": "execute_result"
    }
   ],
   "source": [
    "raw_data = pd.read_csv(\"C:\\\\Users\\\\modx\\\\Desktop\\\\TimeSeriesForecastGDPRAW.csv.txt\", encoding='latin-1')\n",
    "\n",
    "#rows and columns\n",
    "print(raw_data.shape)\n",
    "\n",
    "raw_data.head()"
   ]
  },
  {
   "cell_type": "markdown",
   "id": "51145a20",
   "metadata": {},
   "source": [
    "### Data pre-processing"
   ]
  },
  {
   "cell_type": "code",
   "execution_count": 4,
   "id": "b31f0776",
   "metadata": {},
   "outputs": [
    {
     "data": {
      "text/plain": [
       "demo               0\n",
       "indicator          0\n",
       "location           0\n",
       "country            0\n",
       "time               0\n",
       "value           2066\n",
       "flog codes    267972\n",
       "flags         267972\n",
       "dtype: int64"
      ]
     },
     "execution_count": 4,
     "metadata": {},
     "output_type": "execute_result"
    }
   ],
   "source": [
    "#check null values\n",
    "raw_data.isnull().sum()"
   ]
  },
  {
   "cell_type": "code",
   "execution_count": 5,
   "id": "bb4669e6",
   "metadata": {},
   "outputs": [
    {
     "data": {
      "text/plain": [
       "demo         0\n",
       "indicator    0\n",
       "location     0\n",
       "country      0\n",
       "time         0\n",
       "value        0\n",
       "dtype: int64"
      ]
     },
     "execution_count": 5,
     "metadata": {},
     "output_type": "execute_result"
    }
   ],
   "source": [
    "#clean null values from values col\n",
    "\n",
    "raw_data = raw_data.dropna(subset=['value'])\n",
    "\n",
    "#remove last two columns with null values\n",
    "\n",
    "raw_data= raw_data[['demo','indicator','location','country','time','value']]\n",
    "\n",
    "raw_data.isnull().sum()\n"
   ]
  },
  {
   "cell_type": "code",
   "execution_count": 6,
   "id": "2613296c",
   "metadata": {},
   "outputs": [
    {
     "name": "stdout",
     "output_type": "stream",
     "text": [
      "Unique value for feature demo : 35\n",
      "Unique value for feature indicator : 35\n",
      "Unique value for feature location : 233\n",
      "Unique value for feature country : 233\n",
      "Unique value for feature time : 50\n",
      "Unique value for feature value : 125438\n"
     ]
    }
   ],
   "source": [
    "#checking unique values in each column\n",
    "\n",
    "for column in raw_data:\n",
    "    unique_value = np.unique(raw_data[column])\n",
    "    unique_sum= len(unique_value)\n",
    "    \n",
    "    print('Unique value for feature {} : {}'.format(column,unique_sum))"
   ]
  },
  {
   "cell_type": "code",
   "execution_count": 7,
   "id": "69e36397",
   "metadata": {},
   "outputs": [
    {
     "data": {
      "text/html": [
       "<div>\n",
       "<style scoped>\n",
       "    .dataframe tbody tr th:only-of-type {\n",
       "        vertical-align: middle;\n",
       "    }\n",
       "\n",
       "    .dataframe tbody tr th {\n",
       "        vertical-align: top;\n",
       "    }\n",
       "\n",
       "    .dataframe thead th {\n",
       "        text-align: right;\n",
       "    }\n",
       "</style>\n",
       "<table border=\"1\" class=\"dataframe\">\n",
       "  <thead>\n",
       "    <tr style=\"text-align: right;\">\n",
       "      <th></th>\n",
       "      <th>demo</th>\n",
       "      <th>indicator</th>\n",
       "      <th>location</th>\n",
       "      <th>country</th>\n",
       "      <th>time</th>\n",
       "      <th>value</th>\n",
       "    </tr>\n",
       "  </thead>\n",
       "  <tbody>\n",
       "    <tr>\n",
       "      <th>76848</th>\n",
       "      <td>NY_GDP_PCAP_PP_CD</td>\n",
       "      <td>GDP per capita, PPP (current international $)</td>\n",
       "      <td>AUS</td>\n",
       "      <td>Australia</td>\n",
       "      <td>1990</td>\n",
       "      <td>17333.10</td>\n",
       "    </tr>\n",
       "    <tr>\n",
       "      <th>76849</th>\n",
       "      <td>NY_GDP_PCAP_PP_CD</td>\n",
       "      <td>GDP per capita, PPP (current international $)</td>\n",
       "      <td>AUS</td>\n",
       "      <td>Australia</td>\n",
       "      <td>1991</td>\n",
       "      <td>17793.60</td>\n",
       "    </tr>\n",
       "    <tr>\n",
       "      <th>76850</th>\n",
       "      <td>NY_GDP_PCAP_PP_CD</td>\n",
       "      <td>GDP per capita, PPP (current international $)</td>\n",
       "      <td>AUS</td>\n",
       "      <td>Australia</td>\n",
       "      <td>1992</td>\n",
       "      <td>18189.34</td>\n",
       "    </tr>\n",
       "    <tr>\n",
       "      <th>76851</th>\n",
       "      <td>NY_GDP_PCAP_PP_CD</td>\n",
       "      <td>GDP per capita, PPP (current international $)</td>\n",
       "      <td>AUS</td>\n",
       "      <td>Australia</td>\n",
       "      <td>1993</td>\n",
       "      <td>19130.89</td>\n",
       "    </tr>\n",
       "    <tr>\n",
       "      <th>76852</th>\n",
       "      <td>NY_GDP_PCAP_PP_CD</td>\n",
       "      <td>GDP per capita, PPP (current international $)</td>\n",
       "      <td>AUS</td>\n",
       "      <td>Australia</td>\n",
       "      <td>1994</td>\n",
       "      <td>20063.81</td>\n",
       "    </tr>\n",
       "  </tbody>\n",
       "</table>\n",
       "</div>"
      ],
      "text/plain": [
       "                    demo                                      indicator  \\\n",
       "76848  NY_GDP_PCAP_PP_CD  GDP per capita, PPP (current international $)   \n",
       "76849  NY_GDP_PCAP_PP_CD  GDP per capita, PPP (current international $)   \n",
       "76850  NY_GDP_PCAP_PP_CD  GDP per capita, PPP (current international $)   \n",
       "76851  NY_GDP_PCAP_PP_CD  GDP per capita, PPP (current international $)   \n",
       "76852  NY_GDP_PCAP_PP_CD  GDP per capita, PPP (current international $)   \n",
       "\n",
       "      location    country  time     value  \n",
       "76848      AUS  Australia  1990  17333.10  \n",
       "76849      AUS  Australia  1991  17793.60  \n",
       "76850      AUS  Australia  1992  18189.34  \n",
       "76851      AUS  Australia  1993  19130.89  \n",
       "76852      AUS  Australia  1994  20063.81  "
      ]
     },
     "execution_count": 7,
     "metadata": {},
     "output_type": "execute_result"
    }
   ],
   "source": [
    "#filtering out the data we need - GDP per Capita\n",
    "\n",
    "forecast_data = raw_data[raw_data['indicator'] == 'GDP per capita, PPP (current international $)']\n",
    "\n",
    "\n",
    "#filter out some countries\n",
    "\n",
    "forecast_data = forecast_data[~forecast_data['country'].isin(['Djibouti', 'South Sudan', 'Curaþao', 'Eritrea', 'Bermuda', 'Venezuela (Bolivarian Republic of)'])]\n",
    "\n",
    "forecast_data.head()\n",
    "\n",
    "\n"
   ]
  },
  {
   "cell_type": "code",
   "execution_count": 8,
   "id": "cbe004af",
   "metadata": {},
   "outputs": [
    {
     "data": {
      "text/html": [
       "<div>\n",
       "<style scoped>\n",
       "    .dataframe tbody tr th:only-of-type {\n",
       "        vertical-align: middle;\n",
       "    }\n",
       "\n",
       "    .dataframe tbody tr th {\n",
       "        vertical-align: top;\n",
       "    }\n",
       "\n",
       "    .dataframe thead th {\n",
       "        text-align: right;\n",
       "    }\n",
       "</style>\n",
       "<table border=\"1\" class=\"dataframe\">\n",
       "  <thead>\n",
       "    <tr style=\"text-align: right;\">\n",
       "      <th></th>\n",
       "      <th>country</th>\n",
       "      <th>time</th>\n",
       "      <th>value</th>\n",
       "    </tr>\n",
       "  </thead>\n",
       "  <tbody>\n",
       "    <tr>\n",
       "      <th>76848</th>\n",
       "      <td>Australia</td>\n",
       "      <td>1990</td>\n",
       "      <td>17333.10</td>\n",
       "    </tr>\n",
       "    <tr>\n",
       "      <th>76849</th>\n",
       "      <td>Australia</td>\n",
       "      <td>1991</td>\n",
       "      <td>17793.60</td>\n",
       "    </tr>\n",
       "    <tr>\n",
       "      <th>76850</th>\n",
       "      <td>Australia</td>\n",
       "      <td>1992</td>\n",
       "      <td>18189.34</td>\n",
       "    </tr>\n",
       "    <tr>\n",
       "      <th>76851</th>\n",
       "      <td>Australia</td>\n",
       "      <td>1993</td>\n",
       "      <td>19130.89</td>\n",
       "    </tr>\n",
       "    <tr>\n",
       "      <th>76852</th>\n",
       "      <td>Australia</td>\n",
       "      <td>1994</td>\n",
       "      <td>20063.81</td>\n",
       "    </tr>\n",
       "  </tbody>\n",
       "</table>\n",
       "</div>"
      ],
      "text/plain": [
       "         country  time     value\n",
       "76848  Australia  1990  17333.10\n",
       "76849  Australia  1991  17793.60\n",
       "76850  Australia  1992  18189.34\n",
       "76851  Australia  1993  19130.89\n",
       "76852  Australia  1994  20063.81"
      ]
     },
     "execution_count": 8,
     "metadata": {},
     "output_type": "execute_result"
    }
   ],
   "source": [
    "#limiting columns we need \n",
    "\n",
    "forecast_data= forecast_data[['country','time','value']]\n",
    "forecast_data.head()\n"
   ]
  },
  {
   "cell_type": "code",
   "execution_count": 9,
   "id": "d1cdbde2",
   "metadata": {},
   "outputs": [
    {
     "data": {
      "text/html": [
       "<div>\n",
       "<style scoped>\n",
       "    .dataframe tbody tr th:only-of-type {\n",
       "        vertical-align: middle;\n",
       "    }\n",
       "\n",
       "    .dataframe tbody tr th {\n",
       "        vertical-align: top;\n",
       "    }\n",
       "\n",
       "    .dataframe thead th {\n",
       "        text-align: right;\n",
       "    }\n",
       "</style>\n",
       "<table border=\"1\" class=\"dataframe\">\n",
       "  <thead>\n",
       "    <tr style=\"text-align: right;\">\n",
       "      <th></th>\n",
       "      <th>country</th>\n",
       "      <th>time</th>\n",
       "      <th>value</th>\n",
       "    </tr>\n",
       "  </thead>\n",
       "  <tbody>\n",
       "    <tr>\n",
       "      <th>76848</th>\n",
       "      <td>Australia</td>\n",
       "      <td>1990-01-01</td>\n",
       "      <td>17333.10</td>\n",
       "    </tr>\n",
       "    <tr>\n",
       "      <th>76849</th>\n",
       "      <td>Australia</td>\n",
       "      <td>1991-01-01</td>\n",
       "      <td>17793.60</td>\n",
       "    </tr>\n",
       "    <tr>\n",
       "      <th>76850</th>\n",
       "      <td>Australia</td>\n",
       "      <td>1992-01-01</td>\n",
       "      <td>18189.34</td>\n",
       "    </tr>\n",
       "    <tr>\n",
       "      <th>76851</th>\n",
       "      <td>Australia</td>\n",
       "      <td>1993-01-01</td>\n",
       "      <td>19130.89</td>\n",
       "    </tr>\n",
       "    <tr>\n",
       "      <th>76852</th>\n",
       "      <td>Australia</td>\n",
       "      <td>1994-01-01</td>\n",
       "      <td>20063.81</td>\n",
       "    </tr>\n",
       "  </tbody>\n",
       "</table>\n",
       "</div>"
      ],
      "text/plain": [
       "         country       time     value\n",
       "76848  Australia 1990-01-01  17333.10\n",
       "76849  Australia 1991-01-01  17793.60\n",
       "76850  Australia 1992-01-01  18189.34\n",
       "76851  Australia 1993-01-01  19130.89\n",
       "76852  Australia 1994-01-01  20063.81"
      ]
     },
     "execution_count": 9,
     "metadata": {},
     "output_type": "execute_result"
    }
   ],
   "source": [
    "#change the time to date as most time series models require data structure\n",
    "\n",
    "# convert into string and upending -01-01\n",
    "forecast_data['time'] = forecast_data['time'].astype(str) + '-01-01'\n",
    "\n",
    "forecast_data['time'] = pd.to_datetime(forecast_data['time'])\n",
    "\n",
    "forecast_data.head()\n",
    "\n"
   ]
  },
  {
   "cell_type": "markdown",
   "id": "d941b33b",
   "metadata": {},
   "source": [
    "### Splitting the raw data for training and validation"
   ]
  },
  {
   "cell_type": "code",
   "execution_count": 10,
   "id": "6d486a5b",
   "metadata": {},
   "outputs": [
    {
     "name": "stdout",
     "output_type": "stream",
     "text": [
      "X train shape:  (3967, 3)\n",
      "X validation shape:  (1133, 3)\n"
     ]
    }
   ],
   "source": [
    "x_train= forecast_data[forecast_data['time'] < '2012-01-01']\n",
    "x_valid= forecast_data[forecast_data['time'] >= '2012-01-01']\n",
    "\n",
    "\n",
    "print(\"X train shape: \",x_train.shape )\n",
    "print(\"X validation shape: \",x_valid.shape )\n"
   ]
  },
  {
   "cell_type": "markdown",
   "id": "6d3b8544",
   "metadata": {},
   "source": [
    "### ARIMA for dummies\n",
    "\n",
    "https://medium.com/analytics-vidhya/arima-for-dummies-ba761d59a051\n",
    "\n",
    "http://www.seanabu.com/2016/03/22/time-series-seasonal-ARIMA-model-in-python/\n"
   ]
  },
  {
   "cell_type": "code",
   "execution_count": 11,
   "id": "e4a17796",
   "metadata": {},
   "outputs": [],
   "source": [
    "#running arima for USA\n",
    "\n",
    "#filter the train data\n",
    "\n",
    "\n",
    "us = x_train[x_train['country'] == 'United States of America']\n",
    "us2 = us[['time', 'value']]\n",
    "\n",
    "#filter valid data\n",
    "\n",
    "us_v = x_valid[x_valid['country'] == 'United States of America']\n",
    "us_v2 = us_v[['time', 'value']]\n",
    "\n",
    "\n",
    "#set date to index -- need to do this to run time series model\n",
    "\n",
    "us2.set_index('time', inplace=True)\n",
    "us_v2.set_index('time', inplace=True)\n",
    "\n",
    "\n",
    "# Setting the Index for 6 years going fwd-- use this as forecasting input later\n",
    "\n",
    "#AS== annual frequency\n",
    "\n",
    "index_6_years = pd.date_range(us2.index[-1], freq='AS', periods = 6) \n",
    "\n",
    "\n"
   ]
  },
  {
   "cell_type": "code",
   "execution_count": 12,
   "id": "8d6cd974",
   "metadata": {},
   "outputs": [
    {
     "data": {
      "text/plain": [
       "DatetimeIndex(['2011-01-01', '2012-01-01', '2013-01-01', '2014-01-01',\n",
       "               '2015-01-01', '2016-01-01'],\n",
       "              dtype='datetime64[ns]', freq='AS-JAN')"
      ]
     },
     "execution_count": 12,
     "metadata": {},
     "output_type": "execute_result"
    }
   ],
   "source": [
    "index_6_years"
   ]
  },
  {
   "cell_type": "code",
   "execution_count": 13,
   "id": "e7bcb735",
   "metadata": {
    "scrolled": true
   },
   "outputs": [
    {
     "name": "stdout",
     "output_type": "stream",
     "text": [
      "MSE of arima:  1857.434857766148\n"
     ]
    },
    {
     "data": {
      "image/png": "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\n",
      "text/plain": [
       "<Figure size 1080x360 with 1 Axes>"
      ]
     },
     "metadata": {
      "needs_background": "light"
     },
     "output_type": "display_data"
    }
   ],
   "source": [
    "#running arima with random p,d,q\n",
    "\n",
    "\n",
    "model_arima = ARIMA(us2, order=(0,2,2))  #random 3 values pdq\n",
    "model_arima_fit= model_arima.fit(disp=-1)\n",
    "\n",
    "\n",
    "#making predictions on the 6 year index without index first\n",
    "fcast1= model_arima_fit.forecast(6)[0]\n",
    "    \n",
    "    \n",
    "# Passing the index\n",
    "fcast1 = pd.Series(fcast1, index=index_6_years)\n",
    "fcast1 = fcast1.rename(\"Arima\") \n",
    "\n",
    "\n",
    "# Ploting the predictions\n",
    "fig, ax = plt.subplots(figsize=(15,5))\n",
    "chart = sns.lineplot(x='time', y='value', data = us)\n",
    "chart.set_title('US')\n",
    "fcast1.plot(ax=ax, color='red', marker=\"o\", legend=True)\n",
    "us_v2.plot(ax=ax, color='blue', marker=\"o\", legend=True)\n",
    "\n",
    "\n",
    "#mean square error -- average squared difference between observed vs predicted\n",
    "#tells us by how much $ our prediction is off by\n",
    "\n",
    "\n",
    "print(\"MSE of arima: \",mean_squared_error(us_v['value'].values, fcast1.values, squared=False))\n"
   ]
  },
  {
   "cell_type": "code",
   "execution_count": 14,
   "id": "19962913",
   "metadata": {},
   "outputs": [
    {
     "name": "stdout",
     "output_type": "stream",
     "text": [
      "(0, 0, 0) 465.3549075074627\n",
      "(0, 0, 1) 442.10325523396943\n",
      "(0, 0, 2) 421.15029296084674\n",
      "(0, 0, 3) 407.33876146108014\n",
      "(0, 1, 0) 343.4737347376556\n",
      "(0, 1, 1) 341.8255733948989\n",
      "(0, 1, 2) 343.8247813639084\n",
      "(0, 1, 3) nan\n",
      "(0, 1, 4) nan\n",
      "(0, 2, 0) 332.60682979101045\n",
      "(0, 2, 1) 333.3286321675839\n",
      "(0, 2, 2) 331.1382243987239\n",
      "(0, 2, 3) nan\n",
      "(0, 2, 4) nan\n",
      "(1, 0, 0) 393.35079861504573\n",
      "(1, 1, 0) 342.667077800864\n",
      "(1, 2, 0) 334.28219068893816\n",
      "(2, 0, 0) 376.1853832804411\n",
      "(2, 1, 0) 343.2633080441793\n",
      "(2, 2, 0) 334.636537383821\n",
      "(3, 0, 0) 378.4839332935119\n",
      "(3, 1, 0) 343.4374648739158\n",
      "(3, 2, 0) 335.91689073166094\n",
      "(4, 0, 0) 380.31885532622584\n",
      "(4, 1, 0) 361.09380760733205\n",
      "(4, 2, 0) 336.0632858880646\n"
     ]
    }
   ],
   "source": [
    "#Finding the best value for ARIMA\n",
    "\n",
    "import itertools\n",
    "p=d=q=range(0,5)\n",
    "pdq = list(itertools.product(p,d,q))\n",
    "\n",
    "for param in pdq:\n",
    "    try:\n",
    "        model_arima = ARIMA(us2,order=param)\n",
    "        model_arima_fit = model_arima.fit()\n",
    "        print(param,model_arima_fit.aic)\n",
    "    except:\n",
    "        continue\n",
    "    \n",
    "# The Akaike information criterion (AIC) is an estimator of in-sample prediction error and thereby relative quality of\n",
    "# statistical models for a given set of data\n",
    "\n",
    "# It's like the mean squared error in Regression - The smaller the number, the better\n",
    "\n"
   ]
  },
  {
   "cell_type": "markdown",
   "id": "4573b282",
   "metadata": {},
   "source": [
    "### Running ARIMA for future predictions"
   ]
  },
  {
   "cell_type": "code",
   "execution_count": 15,
   "id": "008aa7da",
   "metadata": {},
   "outputs": [
    {
     "name": "stdout",
     "output_type": "stream",
     "text": [
      "\n"
     ]
    },
    {
     "data": {
      "image/png": "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\n",
      "text/plain": [
       "<Figure size 1080x360 with 1 Axes>"
      ]
     },
     "metadata": {
      "needs_background": "light"
     },
     "output_type": "display_data"
    }
   ],
   "source": [
    "# creating a country list\n",
    "countries = forecast_data['country'].unique()\n",
    "\n",
    "countries = ['United States of America']\n",
    "\n",
    "\n",
    "for c in countries:\n",
    "    # filtering the train data - USA\n",
    "    train_data =  x_train[x_train['country'] == c] \n",
    "    train_data2 = train_data[['time', 'value']] \n",
    "    \n",
    "    # filtering the valid data  - USA\n",
    "    valid_data = x_valid[x_valid['country'] == c]\n",
    "    valid_data2 = valid_data[['time', 'value']]\n",
    "    \n",
    "    # all data  - USA\n",
    "    all_data = forecast_data[forecast_data['country']==c]\n",
    "    all_data2 = all_data[['time', 'value']]\n",
    "    \n",
    "    \n",
    "    #convert date column to datetime for train and valid and all data\n",
    "    train_data2.set_index('time', inplace=True)\n",
    "    valid_data2.set_index('time', inplace=True)\n",
    "    valid_data2.columns = ['Valid Data']    #rename -- need to see this\n",
    "    all_data2.set_index('time', inplace=True)\n",
    "    \n",
    "\n",
    "    # Setting the Valid - Index for 6 years\n",
    "    index_6_years = pd.date_range(train_data2.index[-1], freq='AS', periods = 6) \n",
    "    \n",
    "    # Setting the Future - Index for 6 years\n",
    "    future_index_6_years = pd.date_range(valid_data2.index[-1], freq='AS', periods = 6) \n",
    "    \n",
    "    \n",
    "    # Dropping all tables for checking for other countries -- when in loop\n",
    "    try:\n",
    "        del t_fcast1\n",
    "        \n",
    "        \n",
    "    except:\n",
    "        print(\"\")\n",
    "\n",
    "   \n",
    "        \n",
    "        \n",
    "        \n",
    "        #########################################   ARIMA   ########################################\n",
    "        \n",
    "        #VALIDATION\n",
    "        \n",
    "    try:        \n",
    "        try:\n",
    "            # Running ARIMA on Best parameter 1\n",
    "            model_arima = ARIMA(train_data2, order=(0,2,2))\n",
    "            model_arima_fit = model_arima.fit(disp=-1)\n",
    "\n",
    "            # Saving ARIMA predictions\n",
    "            t_fcast1 = model_arima_fit.forecast(6)[0]\n",
    "            # Passing the same index as the others\n",
    "            t_fcast1 = pd.Series(t_fcast1, index=index_6_years)\n",
    "            t_fcast1 = t_fcast1.rename(\"Arima\") \n",
    "        except:\n",
    "            # Running ARIMA on Best parameter 2\n",
    "            model_arima = ARIMA(train_data2, order=(0,2,0))\n",
    "            model_arima_fit = model_arima.fit(disp=-1)\n",
    "\n",
    "            # Saving ARIMA predictions\n",
    "            t_fcast1 = model_arima_fit.forecast(6)[0]\n",
    "            # Passing the same index as the others\n",
    "            t_fcast1 = pd.Series(t_fcast1, index=index_6_years)\n",
    "            t_fcast1 = t_fcast1.rename(\"Arima\") \n",
    "    \n",
    "    except:\n",
    "            print(c, \"Arima Train Error\")\n",
    "        \n",
    "     # THIS IS FOR THE FUTURE PHASE\n",
    "    try:        \n",
    "        try:\n",
    "            # Running ARIMA on Best parameter 1\n",
    "            model_arima = ARIMA(all_data2, order=(0,2,2))\n",
    "            model_arima_fit = model_arima.fit(disp=-1)\n",
    "\n",
    "            # Saving ARIMA predictions\n",
    "            f_fcast1 = model_arima_fit.forecast(6)[0]\n",
    "            # Passing the same index as the others\n",
    "            f_fcast1 = pd.Series(f_fcast1, index=future_index_6_years)\n",
    "            f_fcast1 = f_fcast1.rename(\"Future - Arima\") \n",
    "    \n",
    "        except:\n",
    "            # Running ARIMA on Best parameter 2\n",
    "            model_arima = ARIMA(all_data2, order=(0,2,0))\n",
    "            model_arima_fit = model_arima.fit(disp=-1)\n",
    "\n",
    "            # Saving ARIMA predictions\n",
    "            f_fcast1 = model_arima_fit.forecast(6)[0]\n",
    "            # Passing the same index as the others\n",
    "            f_fcast1 = pd.Series(f_fcast1, index=future_index_6_years)\n",
    "            f_fcast1 = f_fcast1.rename(\"Future - Arima\") \n",
    "\n",
    "        \n",
    "    except:\n",
    "            print(c, \"Arima Future Error\")   \n",
    "            \n",
    "            \n",
    "            \n",
    "            \n",
    "            \n",
    "            \n",
    "    ##############################################################################################################\n",
    "    ########################################      PLOTTING              ##########################################\n",
    "    ##############################################################################################################\n",
    "    \n",
    "    fig, ax = plt.subplots(figsize=(15,5))\n",
    "    chart = sns.lineplot(x='time', y='value', data = train_data)\n",
    "    chart.set_title(c)\n",
    "    valid_data2.plot(ax=ax, color='blue', marker=\"o\", legend=True)\n",
    "    \n",
    "    # ploting validation\n",
    "    try:\n",
    "        t_fcast1.plot(ax=ax, color='red', marker=\"o\", legend=True)\n",
    "    except:\n",
    "        print(\"\")        \n",
    "  \n",
    "        \n",
    "    # plotting future\n",
    "    try:\n",
    "        f_fcast1.plot(ax=ax, color='red', marker=\"v\", legend=True)\n",
    "    except:\n",
    "        print(\"\")        \n",
    "   \n",
    "    \n"
   ]
  },
  {
   "cell_type": "code",
   "execution_count": 18,
   "id": "1e6fc3ab",
   "metadata": {},
   "outputs": [
    {
     "data": {
      "image/png": "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\n",
      "text/plain": [
       "<Figure size 1080x360 with 1 Axes>"
      ]
     },
     "metadata": {
      "needs_background": "light"
     },
     "output_type": "display_data"
    },
    {
     "data": {
      "image/png": "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\n",
      "text/plain": [
       "<Figure size 1080x360 with 1 Axes>"
      ]
     },
     "metadata": {
      "needs_background": "light"
     },
     "output_type": "display_data"
    },
    {
     "data": {
      "image/png": "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\n",
      "text/plain": [
       "<Figure size 1080x360 with 1 Axes>"
      ]
     },
     "metadata": {
      "needs_background": "light"
     },
     "output_type": "display_data"
    }
   ],
   "source": [
    "# creating a country list\n",
    "countries = forecast_data['country'].unique()\n",
    "\n",
    "\n",
    "#for three countries\n",
    "\n",
    "countries = ['United States of America',\"Germany\",\"Greece\"]\n",
    "\n",
    "\n",
    "for c in countries:\n",
    "    # filtering the train data - USA\n",
    "    train_data =  x_train[x_train['country'] == c] \n",
    "    train_data2 = train_data[['time', 'value']] \n",
    "    \n",
    "    # filtering the valid data  - USA\n",
    "    valid_data = x_valid[x_valid['country'] == c]\n",
    "    valid_data2 = valid_data[['time', 'value']]\n",
    "    \n",
    "    # all data  - USA\n",
    "    all_data = forecast_data[forecast_data['country']==c]\n",
    "    all_data2 = all_data[['time', 'value']]\n",
    "    \n",
    "    \n",
    "    #convert date column to datetime for train and valid and all data\n",
    "    train_data2.set_index('time', inplace=True)\n",
    "    valid_data2.set_index('time', inplace=True)\n",
    "    valid_data2.columns = ['Valid Data']    #rename -- need to see this\n",
    "    all_data2.set_index('time', inplace=True)\n",
    "    \n",
    "\n",
    "    # Setting the Valid - Index for 6 years\n",
    "    index_6_years = pd.date_range(train_data2.index[-1], freq='AS', periods = 6) \n",
    "    \n",
    "    # Setting the Future - Index for 6 years\n",
    "    future_index_6_years = pd.date_range(valid_data2.index[-1], freq='AS', periods = 6) \n",
    "    \n",
    "    \n",
    "    # Dropping all tables for checking for other countries -- when in loop\n",
    "    try:\n",
    "        del t_fcast1\n",
    "        \n",
    "        \n",
    "    except:\n",
    "        print(\"\")\n",
    "\n",
    "   \n",
    "        \n",
    "        \n",
    "        \n",
    "        #########################################   ARIMA   ########################################\n",
    "        \n",
    "        #VALIDATION\n",
    "        \n",
    "    try:        \n",
    "        try:\n",
    "            # Running ARIMA on Best parameter 1\n",
    "            model_arima = ARIMA(train_data2, order=(0,2,2))\n",
    "            model_arima_fit = model_arima.fit(disp=-1)\n",
    "\n",
    "            # Saving ARIMA predictions\n",
    "            t_fcast1 = model_arima_fit.forecast(6)[0]\n",
    "            # Passing the same index as the others\n",
    "            t_fcast1 = pd.Series(t_fcast1, index=index_6_years)\n",
    "            t_fcast1 = t_fcast1.rename(\"Arima\") \n",
    "        except:\n",
    "            # Running ARIMA on Best parameter 2\n",
    "            model_arima = ARIMA(train_data2, order=(0,2,0))\n",
    "            model_arima_fit = model_arima.fit(disp=-1)\n",
    "\n",
    "            # Saving ARIMA predictions\n",
    "            t_fcast1 = model_arima_fit.forecast(6)[0]\n",
    "            # Passing the same index as the others\n",
    "            t_fcast1 = pd.Series(t_fcast1, index=index_6_years)\n",
    "            t_fcast1 = t_fcast1.rename(\"Arima\") \n",
    "    \n",
    "    except:\n",
    "            print(c, \"Arima Train Error\")\n",
    "        \n",
    "     # THIS IS FOR THE FUTURE PHASE\n",
    "    try:        \n",
    "        try:\n",
    "            # Running ARIMA on Best parameter 1\n",
    "            model_arima = ARIMA(all_data2, order=(0,2,2))\n",
    "            model_arima_fit = model_arima.fit(disp=-1)\n",
    "\n",
    "            # Saving ARIMA predictions\n",
    "            f_fcast1 = model_arima_fit.forecast(6)[0]\n",
    "            # Passing the same index as the others\n",
    "            f_fcast1 = pd.Series(f_fcast1, index=future_index_6_years)\n",
    "            f_fcast1 = f_fcast1.rename(\"Future - Arima\") \n",
    "    \n",
    "        except:\n",
    "            # Running ARIMA on Best parameter 2\n",
    "            model_arima = ARIMA(all_data2, order=(0,2,0))\n",
    "            model_arima_fit = model_arima.fit(disp=-1)\n",
    "\n",
    "            # Saving ARIMA predictions\n",
    "            f_fcast1 = model_arima_fit.forecast(6)[0]\n",
    "            # Passing the same index as the others\n",
    "            f_fcast1 = pd.Series(f_fcast1, index=future_index_6_years)\n",
    "            f_fcast1 = f_fcast1.rename(\"Future - Arima\") \n",
    "\n",
    "        \n",
    "    except:\n",
    "            print(c, \"Arima Future Error\")   \n",
    "            \n",
    "            \n",
    "            \n",
    "            \n",
    "            \n",
    "            \n",
    "    ##############################################################################################################\n",
    "    ########################################      PLOTTING              ##########################################\n",
    "    ##############################################################################################################\n",
    "    \n",
    "    fig, ax = plt.subplots(figsize=(15,5))\n",
    "    chart = sns.lineplot(x='time', y='value', data = train_data)\n",
    "    chart.set_title(c)\n",
    "    valid_data2.plot(ax=ax, color='blue', marker=\"o\", legend=True)\n",
    "    \n",
    "    # ploting validation\n",
    "    try:\n",
    "        t_fcast1.plot(ax=ax, color='red', marker=\"o\", legend=True)\n",
    "    except:\n",
    "        print(\"\")        \n",
    "  \n",
    "        \n",
    "    # plotting future\n",
    "    try:\n",
    "        f_fcast1.plot(ax=ax, color='red', marker=\"v\", legend=True)\n",
    "    except:\n",
    "        print(\"\")        \n",
    "   \n",
    "    "
   ]
  },
  {
   "cell_type": "code",
   "execution_count": null,
   "id": "f069088d",
   "metadata": {},
   "outputs": [],
   "source": []
  },
  {
   "cell_type": "code",
   "execution_count": null,
   "id": "9265a302",
   "metadata": {},
   "outputs": [],
   "source": []
  },
  {
   "cell_type": "code",
   "execution_count": null,
   "id": "00c864e5",
   "metadata": {},
   "outputs": [],
   "source": []
  }
 ],
 "metadata": {
  "kernelspec": {
   "display_name": "Python 3 (ipykernel)",
   "language": "python",
   "name": "python3"
  },
  "language_info": {
   "codemirror_mode": {
    "name": "ipython",
    "version": 3
   },
   "file_extension": ".py",
   "mimetype": "text/x-python",
   "name": "python",
   "nbconvert_exporter": "python",
   "pygments_lexer": "ipython3",
   "version": "3.9.12"
  }
 },
 "nbformat": 4,
 "nbformat_minor": 5
}
